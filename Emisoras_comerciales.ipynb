{
 "cells": [
  {
   "cell_type": "code",
   "execution_count": 30,
   "metadata": {},
   "outputs": [
    {
     "name": "stdout",
     "output_type": "stream",
     "text": [
      "     Etiquetas de fila        Nombre Streaming       Region     Departamento  \\\n",
      "2            s-0CqbO98                 W RADIO  SANTANDERES        SANTANDER   \n",
      "3            s-0GqUY84                  EL SOL     PACIFICO  VALLE DEL CAUCA   \n",
      "11           s-1BiHJMl                 LA MEGA       CARIBE          BOLIVAR   \n",
      "18           s-1M3E2RJ     BRISAS DEL SAN JUAN     PACIFICO            CHOCO   \n",
      "21           s-23RP9sA                 W RADIO       LLANOS           ARAUCA   \n",
      "...                ...                     ...          ...              ...   \n",
      "924          s-tjPQIFZ                 LA MEGA       CENTRO     CUNDINAMARCA   \n",
      "977          s-UdvpLb6         BUTURAMA STEREO       CARIBE            CESAR   \n",
      "991          s-XAYArKE                   RUMBA    ANTIOQUIA        ANTIOQUIA   \n",
      "1019         s-z92bF6J                   RUMBA     PACIFICO           NARINO   \n",
      "1200         s-T5RvkZn  LA FIERA- TIMANA HUILA          SUR            HUILA   \n",
      "\n",
      "           Ciudad  Frecuencia Banda Clase MinTIC         Cadena  \\\n",
      "2     BUCARAMANGA        90.7    FM    COMERCIAL  CARACOL RADIO   \n",
      "3            CALI        97.5    FM    COMERCIAL      RCN RADIO   \n",
      "11      CARTAGENA        94.5    FM    COMERCIAL      RCN RADIO   \n",
      "18        ISTMINA       106.3    FM    COMERCIAL   AFILIADA RCN   \n",
      "21         ARAUCA       102.3    FM    COMERCIAL  CARACOL RADIO   \n",
      "...           ...         ...   ...          ...            ...   \n",
      "924      GIRARDOT        89.3    FM    COMERCIAL      RCN RADIO   \n",
      "977     AGUACHICA       101.7    FM    COMERCIAL   AFILIADA RCN   \n",
      "991      CAUCASIA        91.3    FM    COMERCIAL      RCN RADIO   \n",
      "1019       TUMACO        91.1    FM    COMERCIAL      RCN RADIO   \n",
      "1200       TIMANA        92.3    FM    COMERCIAL   AFILIADA RCN   \n",
      "\n",
      "            Sistema Cod MinTic  \n",
      "2           W RADIO      52694  \n",
      "3            EL SOL      51816  \n",
      "11          LA MEGA      52025  \n",
      "18    INDEPENDIENTE      52135  \n",
      "21          W RADIO      54076  \n",
      "...             ...        ...  \n",
      "924         LA MEGA      52115  \n",
      "977   INDEPENDIENTE      52161  \n",
      "991           RUMBA      52627  \n",
      "1019          RUMBA      52118  \n",
      "1200  INDEPENDIENTE      52140  \n",
      "\n",
      "[153 rows x 11 columns]\n"
     ]
    }
   ],
   "source": [
    "#Filtro de emisoras comerciales\n",
    "filtro1=data_emisora['Clase MinTIC']=='COMERCIAL'\n",
    "#Filtro emisoras de banda FM\n",
    "filtro2=data_emisora['Banda']=='FM'\n",
    "#Filtro emisoras de la cadena CARACOL y RCN\n",
    "filtro3= data_emisora['Cadena'].str.contains('RCN|CARACOL')\n",
    "#print(filtro3)\n",
    "data_emisoras_filtradas = data_emisora.loc[filtro1 & filtro2 & filtro3]\n",
    "#.loc[filtro2].loc[filtro3]\n",
    "print(data_emisoras_filtradas)\n",
    "data_emisoras_filtradas.to_csv(\"Emisoras_filtradas.csv\",sep='\\t')"
   ]
  },
  {
   "cell_type": "code",
   "execution_count": null,
   "metadata": {},
   "outputs": [],
   "source": []
  }
 ],
 "metadata": {
  "kernelspec": {
   "display_name": "Python 3",
   "language": "python",
   "name": "python3"
  },
  "language_info": {
   "codemirror_mode": {
    "name": "ipython",
    "version": 3
   },
   "file_extension": ".py",
   "mimetype": "text/x-python",
   "name": "python",
   "nbconvert_exporter": "python",
   "pygments_lexer": "ipython3",
   "version": "3.7.4"
  }
 },
 "nbformat": 4,
 "nbformat_minor": 2
}
