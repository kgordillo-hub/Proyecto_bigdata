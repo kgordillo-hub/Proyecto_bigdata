{
 "cells": [
  {
   "cell_type": "code",
   "execution_count": 50,
   "metadata": {
    "scrolled": true
   },
   "outputs": [
    {
     "name": "stdout",
     "output_type": "stream",
     "text": [
      "                                                  Title  \\\n",
      "261                                Como lo Hiciste Ayer   \n",
      "263                       Con Altura (feat. El Guincho)   \n",
      "801   Loco (Tu Forma de Ser) [Ft. Rubén Albarrán] (M...   \n",
      "239                      China (feat. J Balvin & Ozuna)   \n",
      "1182                                            Runaway   \n",
      "1485                             Una Vida Para Recordar   \n",
      "1123                                      QUE PRETENDES   \n",
      "1573                       bad guy (with Justin Bieber)   \n",
      "616                                        I Don't Care   \n",
      "1424                                            Tic Tac   \n",
      "\n",
      "                         Artist                 Spotify  Conteo  \n",
      "261                        ICON  6qO97TNzBV8SUlYweB6TwL     334  \n",
      "263                    J Balvin  2qG5sZ7Si6sdK74qLxedYM     211  \n",
      "801   Los Auténticos Decadentes  0639sfoRA7sW4fGS1EzcQu     170  \n",
      "239                Daddy Yankee  2ksOAxtIxY8yElEWw8RhgK     166  \n",
      "1182            Sebastian Yatra  7BuSE9uTIw931wtZYzvZcQ     156  \n",
      "1485                Myke Towers  7pxL0DzPpCjjcdfQccvnus     146  \n",
      "1123                   J Balvin  25ZAibhr3bdlMCLmubZDVt     138  \n",
      "1573              Billie Eilish  3yNZ5r3LKfdmjoS3gkhUCT     137  \n",
      "616                  Ed Sheeran  3HVWdVOQ0ZA45FuZGSfvns     134  \n",
      "1424               Nanpa Básico  6pNJjIQv5bt0ZpjSP0at93     132  \n"
     ]
    }
   ],
   "source": [
    "import pandas as pd\n",
    "from pandas import ExcelWriter\n",
    "from pandas import ExcelFile\n",
    "\n",
    "data_emisora = pd.read_excel(\"s-MCCN9wG_201908_(LOS-40---BOGOTA).xlsx\", sheet_name=\"music\")\n",
    "#print(data_emisora.columns)\n",
    "data_emisora.sort_values(by=['Played_Duration'], ascending=False)\n",
    "#canciones_mas_sonadas=data_emisora['Title','Artist'].value_counts()[0:10]\n",
    "canciones_mas_sonadas=data_emisora.groupby(['Title','Artist', 'Spotify']).size().reset_index(name=\"Conteo\").sort_values(by=['Conteo'],ascending=False)[0:10]\n",
    "print(canciones_mas_sonadas)\n",
    "canciones_mas_sonadas.to_csv(\"canciones_mas_sonadas.csv\",sep='\\t')"
   ]
  },
  {
   "cell_type": "code",
   "execution_count": null,
   "metadata": {},
   "outputs": [],
   "source": []
  }
 ],
 "metadata": {
  "kernelspec": {
   "display_name": "Python 3",
   "language": "python",
   "name": "python3"
  },
  "language_info": {
   "codemirror_mode": {
    "name": "ipython",
    "version": 3
   },
   "file_extension": ".py",
   "mimetype": "text/x-python",
   "name": "python",
   "nbconvert_exporter": "python",
   "pygments_lexer": "ipython3",
   "version": "3.7.4"
  }
 },
 "nbformat": 4,
 "nbformat_minor": 2
}
